{
 "cells": [
  {
   "cell_type": "code",
   "execution_count": 1,
   "metadata": {},
   "outputs": [],
   "source": [
    "'''\n",
    "<<<design>>>\n",
    "\n",
    "1. input 형태 조정 *****\n",
    " 1.-(1) MFCC 파일을 x, y로 구분하여 리스트에 저장\n",
    " (x : 컬럼 차원 리스트, y : 클래스 라벨(1차원 리스트))\n",
    "2. input을 받아서 svm kernel function을 바꿔서 돌리기\n",
    " 2-(2) 클래스 여러 개인 부분 조정\n",
    " 2-(3) kernel function 변경\n",
    " \n",
    " pickle 을 통해 학습값 저장 후 활용\n",
    "\n",
    "'''\n",
    "\n",
    "from sklearn import svm\n",
    "from sklearn.datasets import make_blobs\n",
    "from random import *\n",
    "\n",
    "import matplotlib.pyplot as plt\n",
    "import numpy as np\n",
    "import pandas as pd\n",
    "import librosa\n",
    "import librosa.display\n",
    "from matplotlib.pyplot import specgram\n",
    "import os\n",
    "import IPython.display as ipd\n",
    "import random\n",
    "import pickle\n"
   ]
  },
  {
   "cell_type": "code",
   "execution_count": 2,
   "metadata": {},
   "outputs": [],
   "source": [
    "\n",
    "#.wav 파일을 받아와서 MFCC로 변환\n",
    "# mean 을 통하여 정규화를 해서 집어넣는다고 함.\n",
    "def wav2mfcc(path):\n",
    "    mfcc_x = []\n",
    "    label_y = []\n",
    "    for subdir, dirs, files in os.walk(path):\n",
    "        for file in files:\n",
    "            try:\n",
    "                X, sample_rate = librosa.load(os.path.join(subdir,file), res_type = \"kaiser_fast\", duration = 2.5, sr = 22050*2, offset = 0.5)\n",
    "                mfcc = np.mean(librosa.feature.mfcc(y=X, sr=sample_rate, n_mfcc = 40).T,axis=0)\n",
    "                y = int(file[7:8])-1\n",
    "                mfcc_x.append(mfcc)\n",
    "                label_y.append(y)\n",
    "            except ValueError:\n",
    "                continue\n",
    "\n",
    "    return mfcc_x, label_y\n",
    "\n",
    "\n",
    "#list를 판다스 df로 보여주기\n",
    "def print_df(mylist):\n",
    "    df = pd.DataFrame(data = mylist)\n",
    "    print(df)\n",
    "\n",
    "\n",
    "def train_test_split(x, y, train_size):\n",
    "    \n",
    "    # 두 리스트를 합쳐서, 셔플하여 조정\n",
    "    # 이후 train size 만큼 나눠서 분배\n",
    "    \n",
    "    tmp = [[a,b] for a, b in zip(x, y)]\n",
    "    random.shuffle(tmp)\n",
    "    x2 = [n[0] for n in tmp]\n",
    "    y2 = [n[1] for n in tmp]\n",
    "    index = int(len(y) * train_size)\n",
    "    x_train = []\n",
    "    x_test = []\n",
    "    x_train = x2[:index]\n",
    "    x_test = x2[index:]\n",
    "    y_train = y2[:index]\n",
    "    y_test = y2[index:]\n",
    "    '''\n",
    "        x_train = x[:index]\n",
    "    x_test = x[index:]\n",
    "    y_train = y[:index]\n",
    "    y_test = y[index:]\n",
    "\n",
    "    '''\n",
    "\n",
    "\n",
    "    return x_train, x_test, y_train, y_test\n",
    "\n",
    "def accuracy_score(error,total):\n",
    "    return error / total\n",
    "\n",
    "\n",
    "def extract_mfcc(wav_file_name):\n",
    "    '''This function extracts mfcc features and obtain the mean of each dimension\n",
    "    Input : path_to_wav_file\n",
    "    Output: mfcc_features'''\n",
    "    y, sr = librosa.load(wav_file_name)\n",
    "#     trimmed_data = np.zeros((160, 20))\n",
    "    mfccs = np.mean(librosa.feature.mfcc(y=y, sr=sr, n_mfcc=40).T,axis=0)\n",
    "#     data = np.array(librosa.feature.mfcc(y = y, sr = sr, n_mfcc=40).T)\n",
    "#     if data.shape[0] <= 160:\n",
    "#         trimmed_data[:data.shape[0],0:] = data[:,0:]\n",
    "#     else:\n",
    "#         trimmed_data[0:,0:] = data[0:160,0:]\n",
    "    return mfccs\n"
   ]
  },
  {
   "cell_type": "code",
   "execution_count": 3,
   "metadata": {},
   "outputs": [],
   "source": [
    "##### load data from savee dataset\n",
    "root_dir = \"./savee-database/AudioData/\"\n",
    "# root_dir = \"../input/audio_speech_actors_01-24/\"\n",
    "savee_data = []\n",
    "savee_labels = []\n",
    "for actor_dir in sorted(os.listdir(root_dir)):\n",
    "    if actor_dir[-4:] == \".txt\":\n",
    "        continue\n",
    "    for file_name in os.listdir(os.path.join(root_dir, actor_dir)):\n",
    "        if file_name[0] == \"c\":\n",
    "            continue\n",
    "        wav_file_name = os.path.join(root_dir, actor_dir, file_name)\n",
    "        savee_data.append(extract_mfcc(wav_file_name))\n",
    "        #01 = neutral, 02 = calm, 03 = happy, 04 = sad, 05 = angry, 06 = fearful, 07 = disgust, 08 = surprised).\n",
    "        if file_name[0] == \"n\":\n",
    "            savee_labels.append(0)\n",
    "        if file_name[0] == \"a\":\n",
    "            savee_labels.append(4)\n",
    "        if file_name[0] == \"d\":\n",
    "            savee_labels.append(6)\n",
    "        if file_name[0] == \"f\":\n",
    "            savee_labels.append(5)\n",
    "        if file_name[0] == \"h\":\n",
    "            savee_labels.append(2)\n",
    "        if file_name[:2] == \"sa\":\n",
    "            savee_labels.append(3)\n",
    "        if file_name[:2] == \"su\":\n",
    "            savee_labels.append(7)"
   ]
  },
  {
   "cell_type": "code",
   "execution_count": 4,
   "metadata": {},
   "outputs": [
    {
     "data": {
      "text/plain": [
       "(480, 40)"
      ]
     },
     "execution_count": 4,
     "metadata": {},
     "output_type": "execute_result"
    }
   ],
   "source": [
    "#### convert data to array and make labels categorical\n",
    "savee_data_array = np.asarray(savee_data)\n",
    "savee_label_array = np.array(savee_labels)\n",
    "savee_data_array.shape\n",
    "# savee_data_array.shape"
   ]
  },
  {
   "cell_type": "code",
   "execution_count": 5,
   "metadata": {},
   "outputs": [],
   "source": [
    "##### load data from emo dataset\n",
    "\n",
    "root_dir = \"./emo-db/wav\"\n",
    "# root_dir = \"../input/audio_speech_actors_01-24/\"\n",
    "emo_data = []\n",
    "emo_labels = []\n",
    "for file_name in os.listdir(root_dir):\n",
    "    wav_file_name = os.path.join(root_dir, file_name)\n",
    "    emo_data.append(extract_mfcc(wav_file_name))\n",
    "    #01 = neutral, 02 = calm, 03 = happy, 04 = sad, 05 = angry, 06 = fearful, 07 = disgust, 08 = surprised).\n",
    "    # anger\n",
    "    if file_name[5] == \"W\":\n",
    "        emo_labels.append(4)\n",
    "    #boredom\n",
    "    if file_name[5] == \"L\":\n",
    "        emo_labels.append(1)\n",
    "    #disgust\n",
    "    if file_name[5] == \"E\":\n",
    "        emo_labels.append(6)\n",
    "    #anxiety (fear 와 비슷하다고 판단하여 추가)\n",
    "    if file_name[5] == \"A\":\n",
    "        emo_labels.append(5)\n",
    "    #happy\n",
    "    if file_name[5] == \"F\":\n",
    "        emo_labels.append(2)\n",
    "    #sad\n",
    "    if file_name[5] == \"T\":\n",
    "        emo_labels.append(3)\n",
    "    #neutral\n",
    "    if file_name[5] == \"N\":\n",
    "        emo_labels.append(0)\n",
    "    \n"
   ]
  },
  {
   "cell_type": "code",
   "execution_count": 6,
   "metadata": {},
   "outputs": [
    {
     "data": {
      "text/plain": [
       "(535, 40)"
      ]
     },
     "execution_count": 6,
     "metadata": {},
     "output_type": "execute_result"
    }
   ],
   "source": [
    "emo_data_array = np.asarray(emo_data)\n",
    "emo_label_array = np.array(emo_labels)\n",
    "emo_data_array.shape"
   ]
  },
  {
   "cell_type": "code",
   "execution_count": 7,
   "metadata": {},
   "outputs": [],
   "source": [
    "\n",
    "\n",
    "'''\n",
    "-------------------------------------------------\n",
    "                      main\n",
    "-------------------------------------------------\n",
    "'''\n",
    "\n",
    "#input\n",
    "'''\n",
    "listData = readCSVtoList('output.csv') #전역변수랑 로컬변수랑 이름 같아도 되나?\n",
    "x, x_name = get_x(listData)\n",
    "y = get_y(listData)\n",
    "'''\n",
    "\n",
    "# 모든 데이터 집어넣음\n",
    "x, y = wav2mfcc(\"C:\\\\Users\\\\JW\\\\JPNotebook\\\\O2DD\\\\ravdess-video\\\\\")\n",
    "x2, y2 = wav2mfcc(\"C:\\\\Users\\\\JW\\\\JPNotebook\\\\O2DD\\\\ravdess-emotional-speech-audio\\\\\")\n",
    "x3, y3 = wav2mfcc(\"C:\\\\Users\\\\JW\\\\JPNotebook\\\\O2DD\\\\ravdess-emotional-song-audio\\\\\")\n",
    "\n",
    "\n",
    "\n",
    "\n",
    "\n"
   ]
  },
  {
   "cell_type": "code",
   "execution_count": 8,
   "metadata": {},
   "outputs": [
    {
     "name": "stdout",
     "output_type": "stream",
     "text": [
      "              0           1          2          3          4          5   \\\n",
      "0    -619.222670   64.177939 -38.507848  10.326028 -16.548701  -7.445555   \n",
      "1    -493.605883   78.403124 -59.328538   2.917562  -5.959734 -15.284565   \n",
      "2    -419.720852   73.028260 -56.681549   4.046819  -6.625583  -8.569353   \n",
      "3    -465.032207   70.907345 -23.506550   5.622329  -7.250303   0.564889   \n",
      "4    -553.802471   70.648811 -26.657246   6.857753  -7.232124   2.864682   \n",
      "...          ...         ...        ...        ...        ...        ...   \n",
      "3427 -591.851919   82.116318   7.755493  17.411675   1.099998  10.513944   \n",
      "3428 -450.481321   80.544637 -24.184132  -2.557460 -20.147437  12.804345   \n",
      "3429 -648.262485  113.865457  -5.345855  18.631916   2.353619  15.293511   \n",
      "3430 -434.584039   78.319575 -15.550904  16.307647  -9.961129  11.075298   \n",
      "3431 -515.527545  119.673687 -26.632437  13.125755   2.965245  19.398560   \n",
      "\n",
      "             6          7          8          9   ...        30        31  \\\n",
      "0    -28.617798  -3.385529 -20.174570 -25.544569  ...  0.334788 -1.700833   \n",
      "1    -26.401083   5.163185 -19.080531 -17.967420  ... -1.959236  1.263539   \n",
      "2    -27.371565   2.865545 -18.860413 -16.424033  ... -5.626625  2.041788   \n",
      "3    -28.235396  -4.241684 -22.294378 -24.123924  ... -3.956027  0.806813   \n",
      "4    -17.462309   1.101570 -25.488850  -7.815518  ... -0.898137  1.350922   \n",
      "...         ...        ...        ...        ...  ...       ...       ...   \n",
      "3427 -13.551483  14.047555 -17.185335  -5.806941  ... -0.760036  1.457504   \n",
      "3428 -26.530604  -8.902892 -20.004732 -15.840617  ...  3.552413  6.795564   \n",
      "3429  -8.608009 -11.801208 -16.776906  -7.818758  ... -4.560486 -8.033920   \n",
      "3430 -13.774365  -1.909136 -24.021478   1.224412  ... -2.104727 -0.383476   \n",
      "3431 -10.610717 -16.888834  -8.180972  -6.924920  ... -5.788758 -7.916090   \n",
      "\n",
      "            32        33        34        35        36        37        38  \\\n",
      "0    -0.943299 -3.496632 -7.329528 -5.903015 -0.091625  4.103781  3.037838   \n",
      "1     1.597237 -0.061720 -9.189247 -4.795859  4.953412  7.518865  4.906016   \n",
      "2     2.343646  0.725178 -3.772141 -9.017940 -4.243739  0.905920  2.659156   \n",
      "3     0.765672  1.529906 -5.655996 -8.569478 -3.033764  1.576258  4.956427   \n",
      "4     0.725971  1.209634  4.279082  2.531778  0.453672  0.263630 -0.179932   \n",
      "...        ...       ...       ...       ...       ...       ...       ...   \n",
      "3427  2.179417  3.280523  4.111351  5.566401  2.448313  3.313665  3.916310   \n",
      "3428  2.029490 -1.030584  0.724448  2.117621  1.766779 -0.105077 -1.631081   \n",
      "3429 -6.964780 -2.472303 -4.938468  1.604396  2.592876  4.408553  3.960448   \n",
      "3430 -0.275050  0.930928  3.318642  3.333735  1.034923  1.271998  0.495112   \n",
      "3431 -0.281922 -9.548559 -7.053630  1.534693 -2.299745 -2.257804  2.296349   \n",
      "\n",
      "            39  \n",
      "0    -2.917712  \n",
      "1    -4.217275  \n",
      "2    -0.049129  \n",
      "3     3.522292  \n",
      "4    -0.297530  \n",
      "...        ...  \n",
      "3427  3.678148  \n",
      "3428 -1.659699  \n",
      "3429 -0.872224  \n",
      "3430  1.393940  \n",
      "3431  6.973590  \n",
      "\n",
      "[3432 rows x 40 columns]\n",
      "      0\n",
      "0     3\n",
      "1     2\n",
      "2     5\n",
      "3     5\n",
      "4     7\n",
      "...  ..\n",
      "3427  7\n",
      "3428  2\n",
      "3429  1\n",
      "3430  6\n",
      "3431  3\n",
      "\n",
      "[3432 rows x 1 columns]\n",
      "              0           1          2          3          4          5   \\\n",
      "0    -471.214610   75.014272 -48.358082   2.382875 -10.371224 -16.609892   \n",
      "1    -626.018813  121.736250   5.497928  16.452566  -0.052265   8.899960   \n",
      "2    -528.936919   96.518553  -7.796197  16.872008   9.850404  18.660439   \n",
      "3    -624.774262  123.310236 -13.896420  21.814410   1.157049  16.244382   \n",
      "4    -417.306375   75.736929 -50.425463   5.651322  -0.847576 -14.007567   \n",
      "...          ...         ...        ...        ...        ...        ...   \n",
      "1467 -762.883165   82.998705  10.764253  30.768180   8.738995  26.445021   \n",
      "1468 -423.570035   64.417868 -29.985674   7.802152  -3.025623  -4.106823   \n",
      "1469 -501.056523   62.801112 -16.328595   5.129418 -11.085020   5.515190   \n",
      "1470 -530.459206   98.893484 -13.947911  11.525564   2.658787  12.451949   \n",
      "1471 -453.300359  117.105724 -25.931351  10.166831  -1.276072  17.027720   \n",
      "\n",
      "             6          7          8          9   ...        30        31  \\\n",
      "0    -26.163393   8.058873 -25.380818  -6.119269  ... -2.811963 -1.004752   \n",
      "1     -3.054524   3.968725 -16.769394  -4.665945  ... -0.394789 -2.598493   \n",
      "2    -12.608513  16.162369  -4.813888  -8.136404  ... -1.518072  0.292683   \n",
      "3     -6.431758 -12.117722 -19.492795 -11.291128  ... -4.901270 -7.431579   \n",
      "4    -26.894301   8.207364 -12.989742 -19.056436  ... -1.658501  2.774292   \n",
      "...         ...        ...        ...        ...  ...       ...       ...   \n",
      "1467  -0.202853  12.928615  -8.947828   3.721890  ... -0.017206 -2.463494   \n",
      "1468 -28.270958  -0.968963 -33.147038 -16.130102  ... -3.707476  1.801757   \n",
      "1469 -14.983377  -6.883378  -6.738079  -8.788967  ...  2.203525  0.027271   \n",
      "1470  -8.198575  -6.164725 -19.225014  -5.839137  ... -1.579910  0.693407   \n",
      "1471 -13.832545   0.731596 -13.562209 -14.771985  ... -2.289965 -4.218776   \n",
      "\n",
      "            32        33        34        35        36        37        38  \\\n",
      "0    -0.287065 -0.853660 -2.039249 -3.622965 -3.196351 -0.109618  0.455804   \n",
      "1    -2.273359  2.225793 -2.302750 -2.294039  1.175045 -1.077608 -1.337939   \n",
      "2     0.061910  1.172470 -2.364564 -1.379307 -0.572640 -2.378958 -0.009653   \n",
      "3    -7.237379 -0.660758 -4.674193  1.750958  5.339629  4.710870  1.881814   \n",
      "4     1.391478  3.383619 -0.909678 -6.403248 -3.947322  0.630486  3.886438   \n",
      "...        ...       ...       ...       ...       ...       ...       ...   \n",
      "1467 -0.859113 -1.574130 -0.410428 -0.303912 -0.987984 -0.616860 -1.804865   \n",
      "1468  1.628383  2.227227 -7.566461 -8.804004  0.684153 -0.377028  3.768858   \n",
      "1469 -0.877649  2.795653  2.234621  0.039596  2.553593  0.620575 -0.156807   \n",
      "1470 -1.075760 -1.066745 -1.024638 -1.279682 -1.003366 -2.574207 -2.542449   \n",
      "1471 -6.629859 -1.893870 -6.445307  2.596705  2.908283  1.681942  4.325926   \n",
      "\n",
      "            39  \n",
      "0    -0.388212  \n",
      "1    -1.079289  \n",
      "2    -0.882256  \n",
      "3    -2.556661  \n",
      "4     1.294190  \n",
      "...        ...  \n",
      "1467 -2.627560  \n",
      "1468  2.417243  \n",
      "1469 -0.285461  \n",
      "1470 -1.725772  \n",
      "1471 -3.381067  \n",
      "\n",
      "[1472 rows x 40 columns]\n",
      "      0\n",
      "0     4\n",
      "1     7\n",
      "2     4\n",
      "3     1\n",
      "4     4\n",
      "...  ..\n",
      "1467  5\n",
      "1468  4\n",
      "1469  2\n",
      "1470  5\n",
      "1471  2\n",
      "\n",
      "[1472 rows x 1 columns]\n"
     ]
    }
   ],
   "source": [
    "x_data = np.array(x)\n",
    "y_labels= np.array(y)\n",
    "x2_data = np.array(x2)\n",
    "y2_labels= np.array(y2)\n",
    "x3_data = np.array(x3)\n",
    "y3_labels= np.array(y3)\n",
    "\n",
    "data = np.r_[x_data, x2_data, x3_data]\n",
    "labels = np.r_[y_labels, y2_labels, y3_labels]\n",
    "\n",
    "data.shape\n",
    "\n",
    "\n",
    "#data split\n",
    "x_train, x_test, y_train, y_test = train_test_split(data, labels, 0.70)\n",
    "\n",
    "#print(x_train)\n",
    "print_df(x_train)\n",
    "print_df(y_train)\n",
    "print_df(x_test)\n",
    "print_df(y_test)\n"
   ]
  },
  {
   "cell_type": "code",
   "execution_count": 9,
   "metadata": {},
   "outputs": [],
   "source": [
    "\n",
    "#training session\n",
    "clf = svm.SVC(kernel='linear')\n",
    "clf.fit(x_train, y_train)\n"
   ]
  },
  {
   "cell_type": "code",
   "execution_count": 19,
   "metadata": {},
   "outputs": [],
   "source": [
    "'''\n",
    "with open('data.pickle', 'wb') as f:\n",
    "    pickle.dump(clf, f)\n",
    "'''"
   ]
  },
  {
   "cell_type": "code",
   "execution_count": 29,
   "metadata": {},
   "outputs": [
    {
     "data": {
      "text/plain": [
       "\"\\nclf2 = svm.SVC(kernel='linear')\\n\\nwith open('data.pickle', 'rb') as f:\\n    clf2 = pickle.loads(f)\\n\""
      ]
     },
     "execution_count": 29,
     "metadata": {},
     "output_type": "execute_result"
    }
   ],
   "source": [
    "'''\n",
    "clf2 = svm.SVC(kernel='linear')\n",
    "\n",
    "with open('data.pickle', 'rb') as f:\n",
    "    clf2 = pickle.loads(f)\n",
    "'''"
   ]
  },
  {
   "cell_type": "code",
   "execution_count": 30,
   "metadata": {},
   "outputs": [
    {
     "name": "stdout",
     "output_type": "stream",
     "text": [
      "총 테스트 개수: 1472, 오류개수:562\n",
      "Score :  0.6182065217391305\n"
     ]
    },
    {
     "data": {
      "text/plain": [
       "'\\n트레이닝 데이터와 테스트 데이터의 비율은 생각보다는 크게 영향이 없었다.\\n\\n'"
      ]
     },
     "execution_count": 30,
     "metadata": {},
     "output_type": "execute_result"
    }
   ],
   "source": [
    "\n",
    "#test session\n",
    "y_pred = clf.predict(x_test)\n",
    "print('총 테스트 개수: %d, 오류개수:%d' %(len(y_test), (y_test != y_pred).sum()))\n",
    "\n",
    "print(\"Score : \", clf.score(x_test,y_test))\n",
    "#print('정확도: %.2f' % accuracy_score(y_test,y_pred))\n",
    "\n",
    "# 비고\n",
    "'''\n",
    "트레이닝 데이터와 테스트 데이터의 비율은 생각보다는 크게 영향이 없었다.\n",
    "\n",
    "'''"
   ]
  },
  {
   "cell_type": "code",
   "execution_count": 31,
   "metadata": {},
   "outputs": [
    {
     "name": "stdout",
     "output_type": "stream",
     "text": [
      "총 테스트 개수: 480, 오류개수:368\n",
      "Score :  0.23333333333333334\n"
     ]
    }
   ],
   "source": [
    "\n",
    "savee_pred = clf.predict(savee_data_array)\n",
    "print('총 테스트 개수: %d, 오류개수:%d' %(len(savee_label_array), (savee_label_array != savee_pred).sum()))\n",
    "\n",
    "print(\"Score : \", clf.score(savee_data_array,savee_label_array))"
   ]
  },
  {
   "cell_type": "code",
   "execution_count": 32,
   "metadata": {},
   "outputs": [
    {
     "name": "stdout",
     "output_type": "stream",
     "text": [
      "총 테스트 개수: 535, 오류개수:445\n",
      "Score :  0.16822429906542055\n"
     ]
    }
   ],
   "source": [
    "\n",
    "emo_pred = clf.predict(emo_data_array)\n",
    "print('총 테스트 개수: %d, 오류개수:%d' %(len(emo_label_array), (emo_label_array != emo_pred).sum()))\n",
    "\n",
    "print(\"Score : \", clf.score(emo_data_array,emo_label_array))"
   ]
  },
  {
   "cell_type": "code",
   "execution_count": null,
   "metadata": {},
   "outputs": [],
   "source": []
  }
 ],
 "metadata": {
  "kernelspec": {
   "display_name": "Python 3",
   "language": "python",
   "name": "python3"
  },
  "language_info": {
   "codemirror_mode": {
    "name": "ipython",
    "version": 3
   },
   "file_extension": ".py",
   "mimetype": "text/x-python",
   "name": "python",
   "nbconvert_exporter": "python",
   "pygments_lexer": "ipython3",
   "version": "3.7.4"
  }
 },
 "nbformat": 4,
 "nbformat_minor": 2
}
